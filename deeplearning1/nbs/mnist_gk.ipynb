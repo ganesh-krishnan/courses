{
 "cells": [
  {
   "cell_type": "code",
   "execution_count": 1,
   "metadata": {
    "collapsed": false
   },
   "outputs": [
    {
     "name": "stderr",
     "output_type": "stream",
     "text": [
      "Using Theano backend.\n"
     ]
    }
   ],
   "source": [
    "%matplotlib inline\n",
    "from keras.datasets import mnist\n",
    "from keras.models import Sequential\n",
    "from keras.layers import Convolution2D, \\\n",
    "    Flatten, \\\n",
    "    MaxPooling2D, \\\n",
    "    Dense, \\\n",
    "    ZeroPadding2D, \\\n",
    "    Lambda\n",
    "import keras.backend as K\n",
    "import os\n",
    "import matplotlib.pyplot as plt\n",
    "from sklearn.preprocessing import OneHotEncoder\n",
    "from keras.utils.np_utils import to_categorical\n",
    "import numpy as np\n",
    "from keras.preprocessing import image\n",
    "from keras.optimizers import Adam\n",
    "from utils import plots"
   ]
  },
  {
   "cell_type": "code",
   "execution_count": 2,
   "metadata": {
    "collapsed": false
   },
   "outputs": [],
   "source": [
    "def set_backend(backend):\n",
    "    if backend not in ['theano', 'tensorflow']:\n",
    "        raise Exception('Valid backend not specified')\n",
    "    if K.backend() != backend:\n",
    "        os.environ['KERAS_BACKEND'] = backend    \n",
    "        reload(K)\n",
    "        assert K.backend() == backend"
   ]
  },
  {
   "cell_type": "markdown",
   "metadata": {},
   "source": [
    "## Load Data"
   ]
  },
  {
   "cell_type": "code",
   "execution_count": 3,
   "metadata": {
    "collapsed": false
   },
   "outputs": [
    {
     "name": "stdout",
     "output_type": "stream",
     "text": [
      "Downloading data from https://s3.amazonaws.com/img-datasets/mnist.pkl.gz\n"
     ]
    }
   ],
   "source": [
    "(x_train, y_train), (x_test, y_test) = mnist.load_data()\n",
    "x_train = np.expand_dims(x_train, 1)\n",
    "x_test = np.expand_dims(x_test, 1)"
   ]
  },
  {
   "cell_type": "markdown",
   "metadata": {},
   "source": [
    "## Setup Helpers"
   ]
  },
  {
   "cell_type": "code",
   "execution_count": 4,
   "metadata": {
    "collapsed": true
   },
   "outputs": [],
   "source": [
    "nx = 28\n",
    "ny = 28\n",
    "batch_size = 100"
   ]
  },
  {
   "cell_type": "code",
   "execution_count": 7,
   "metadata": {
    "collapsed": true
   },
   "outputs": [],
   "source": [
    "def get_batches(x, y, idg=image.ImageDataGenerator(), batch_size=4, shuffle=True):\n",
    "    return idg.flow(x, y, batch_size=batch_size, shuffle=shuffle)"
   ]
  },
  {
   "cell_type": "code",
   "execution_count": 5,
   "metadata": {
    "collapsed": true
   },
   "outputs": [],
   "source": [
    "def onehot_keras(x):\n",
    "    return to_categorical(x)"
   ]
  },
  {
   "cell_type": "code",
   "execution_count": 6,
   "metadata": {
    "collapsed": false
   },
   "outputs": [],
   "source": [
    "x_mean = np.mean(x_train).astype(np.float32)\n",
    "x_std = np.std(x_train).astype(np.float32)\n",
    "def normalize(x):\n",
    "    return (x - x_mean)/x_std"
   ]
  },
  {
   "cell_type": "code",
   "execution_count": 37,
   "metadata": {
    "collapsed": true
   },
   "outputs": [],
   "source": [
    "train_batches = get_batches(x_train, onehot_keras(y_train), batch_size=128)\n",
    "test_batches = get_batches(x_test, onehot_keras(y_test), batch_size=128)"
   ]
  },
  {
   "cell_type": "markdown",
   "metadata": {},
   "source": [
    "## Simple Linear Model"
   ]
  },
  {
   "cell_type": "code",
   "execution_count": 29,
   "metadata": {
    "collapsed": false
   },
   "outputs": [],
   "source": [
    "lm = Sequential()\n",
    "lm.add(Flatten(input_shape=(1, 28, 28)))\n",
    "lm.add(Dense(10, activation='softmax'))"
   ]
  },
  {
   "cell_type": "code",
   "execution_count": 31,
   "metadata": {
    "collapsed": false
   },
   "outputs": [
    {
     "name": "stdout",
     "output_type": "stream",
     "text": [
      "Epoch 1/10\n",
      "60000/60000 [==============================] - 9s - loss: 7.8001 - acc: 0.5093 - val_loss: 6.0390 - val_acc: 0.6209\n",
      "Epoch 2/10\n",
      "60000/60000 [==============================] - 9s - loss: 6.0437 - acc: 0.6210 - val_loss: 5.9211 - val_acc: 0.6286\n",
      "Epoch 3/10\n",
      "60000/60000 [==============================] - 9s - loss: 5.9054 - acc: 0.6305 - val_loss: 5.8201 - val_acc: 0.6361\n",
      "Epoch 4/10\n",
      "60000/60000 [==============================] - 9s - loss: 5.8912 - acc: 0.6313 - val_loss: 5.8760 - val_acc: 0.6326\n",
      "Epoch 5/10\n",
      "60000/60000 [==============================] - 9s - loss: 5.8391 - acc: 0.6349 - val_loss: 5.9253 - val_acc: 0.6300\n",
      "Epoch 6/10\n",
      "60000/60000 [==============================] - 9s - loss: 5.8130 - acc: 0.6371 - val_loss: 5.7111 - val_acc: 0.6430\n",
      "Epoch 7/10\n",
      "60000/60000 [==============================] - 9s - loss: 5.7937 - acc: 0.6382 - val_loss: 5.7247 - val_acc: 0.6421\n",
      "Epoch 8/10\n",
      "60000/60000 [==============================] - 9s - loss: 5.7579 - acc: 0.6406 - val_loss: 5.7444 - val_acc: 0.6411\n",
      "Epoch 9/10\n",
      "60000/60000 [==============================] - 9s - loss: 5.7576 - acc: 0.6408 - val_loss: 5.7747 - val_acc: 0.6400\n",
      "Epoch 10/10\n",
      "60000/60000 [==============================] - 9s - loss: 5.7445 - acc: 0.6416 - val_loss: 5.8102 - val_acc: 0.6382\n"
     ]
    },
    {
     "data": {
      "text/plain": [
       "<keras.callbacks.History at 0x7f98a28c18d0>"
      ]
     },
     "execution_count": 31,
     "metadata": {},
     "output_type": "execute_result"
    }
   ],
   "source": [
    "lm.compile(Adam(), loss='categorical_crossentropy', metrics=['accuracy'])\n",
    "lm.fit_generator(train_batches, train_batches.n, nb_epoch=10,\n",
    "                 validation_data=test_batches, nb_val_samples=test_batches.n)"
   ]
  },
  {
   "cell_type": "markdown",
   "metadata": {},
   "source": [
    "## Simple Linear Model with Normalization"
   ]
  },
  {
   "cell_type": "code",
   "execution_count": 60,
   "metadata": {
    "collapsed": false
   },
   "outputs": [],
   "source": [
    "lm = Sequential()\n",
    "lm.add(Lambda(normalize, input_shape=(1, 28, 28), output_shape=(1, 28, 28)))\n",
    "lm.add(Flatten())\n",
    "lm.add(Dense(10, activation='softmax'))"
   ]
  },
  {
   "cell_type": "code",
   "execution_count": 61,
   "metadata": {
    "collapsed": false
   },
   "outputs": [
    {
     "name": "stdout",
     "output_type": "stream",
     "text": [
      "Epoch 1/10\n",
      "60000/60000 [==============================] - 9s - loss: 0.5008 - acc: 0.8524 - val_loss: 0.3124 - val_acc: 0.9118\n",
      "Epoch 2/10\n",
      "60000/60000 [==============================] - 9s - loss: 0.3068 - acc: 0.9123 - val_loss: 0.2878 - val_acc: 0.9153\n",
      "Epoch 3/10\n",
      "60000/60000 [==============================] - 9s - loss: 0.2879 - acc: 0.9193 - val_loss: 0.2757 - val_acc: 0.9209\n",
      "Epoch 4/10\n",
      "60000/60000 [==============================] - 9s - loss: 0.2762 - acc: 0.9216 - val_loss: 0.2754 - val_acc: 0.9205\n",
      "Epoch 5/10\n",
      "60000/60000 [==============================] - 9s - loss: 0.2726 - acc: 0.9237 - val_loss: 0.2743 - val_acc: 0.9217\n",
      "Epoch 6/10\n",
      "60000/60000 [==============================] - 9s - loss: 0.2697 - acc: 0.9243 - val_loss: 0.2655 - val_acc: 0.9256\n",
      "Epoch 7/10\n",
      "60000/60000 [==============================] - 9s - loss: 0.2665 - acc: 0.9260 - val_loss: 0.2716 - val_acc: 0.9234\n",
      "Epoch 8/10\n",
      "60000/60000 [==============================] - 9s - loss: 0.2592 - acc: 0.9272 - val_loss: 0.2862 - val_acc: 0.9193\n",
      "Epoch 9/10\n",
      "60000/60000 [==============================] - 9s - loss: 0.2606 - acc: 0.9279 - val_loss: 0.2730 - val_acc: 0.9241\n",
      "Epoch 10/10\n",
      "60000/60000 [==============================] - 9s - loss: 0.2624 - acc: 0.9271 - val_loss: 0.2650 - val_acc: 0.9264\n"
     ]
    },
    {
     "data": {
      "text/plain": [
       "<keras.callbacks.History at 0x7f98a2b3fd50>"
      ]
     },
     "execution_count": 61,
     "metadata": {},
     "output_type": "execute_result"
    }
   ],
   "source": [
    "lm.compile(Adam(), loss='categorical_crossentropy', metrics=['accuracy'])\n",
    "lm.fit_generator(train_batches, train_batches.n, nb_epoch=10,\n",
    "                validation_data=test_batches, nb_val_samples=test_batches.n)"
   ]
  },
  {
   "cell_type": "markdown",
   "metadata": {},
   "source": [
    "## 2 Layer Linear Model with Normalization (Relu)"
   ]
  },
  {
   "cell_type": "code",
   "execution_count": 76,
   "metadata": {
    "collapsed": true
   },
   "outputs": [],
   "source": [
    "lm2 = Sequential([\n",
    "        Lambda(normalize, input_shape=(1, 28, 28), output_shape=(1, 28, 28)),\n",
    "        Flatten(),\n",
    "        Dense(512, activation='relu'),\n",
    "        Dense(10, activation='softmax')\n",
    "    ])"
   ]
  },
  {
   "cell_type": "code",
   "execution_count": 77,
   "metadata": {
    "collapsed": true
   },
   "outputs": [],
   "source": [
    "lm2.compile(Adam(), loss='categorical_crossentropy', metrics=['accuracy'])"
   ]
  },
  {
   "cell_type": "code",
   "execution_count": 78,
   "metadata": {
    "collapsed": false
   },
   "outputs": [
    {
     "name": "stdout",
     "output_type": "stream",
     "text": [
      "Epoch 1/1\n",
      "60000/60000 [==============================] - 19s - loss: 0.2082 - acc: 0.9383 - val_loss: 0.1095 - val_acc: 0.9684\n"
     ]
    },
    {
     "data": {
      "text/plain": [
       "<keras.callbacks.History at 0x7f98b2636610>"
      ]
     },
     "execution_count": 78,
     "metadata": {},
     "output_type": "execute_result"
    }
   ],
   "source": [
    "lm2.fit_generator(train_batches, train_batches.n, nb_epoch=1,\n",
    "                 validation_data=test_batches, nb_val_samples=test_batches.n)"
   ]
  },
  {
   "cell_type": "code",
   "execution_count": 79,
   "metadata": {
    "collapsed": false
   },
   "outputs": [
    {
     "name": "stdout",
     "output_type": "stream",
     "text": [
      "Epoch 1/1\n",
      "60000/60000 [==============================] - 19s - loss: 0.0830 - acc: 0.9748 - val_loss: 0.0810 - val_acc: 0.9761\n"
     ]
    },
    {
     "data": {
      "text/plain": [
       "<keras.callbacks.History at 0x7f98b251eb90>"
      ]
     },
     "execution_count": 79,
     "metadata": {},
     "output_type": "execute_result"
    }
   ],
   "source": [
    "lm2.optimizer.lr = 0.1\n",
    "lm2.fit_generator(train_batches, train_batches.n, nb_epoch=1,\n",
    "                 validation_data=test_batches, nb_val_samples=test_batches.n)"
   ]
  },
  {
   "cell_type": "markdown",
   "metadata": {},
   "source": [
    "## 2 Layer Linear Model with Normalization (Softmax)"
   ]
  },
  {
   "cell_type": "code",
   "execution_count": 82,
   "metadata": {
    "collapsed": true
   },
   "outputs": [],
   "source": [
    "lm3 = Sequential([\n",
    "        Lambda(normalize, input_shape=(1, 28, 28), output_shape=(1, 28, 28)),\n",
    "        Flatten(),\n",
    "        Dense(512, activation='softmax'),\n",
    "        Dense(10, activation='softmax')\n",
    "    ])"
   ]
  },
  {
   "cell_type": "code",
   "execution_count": 83,
   "metadata": {
    "collapsed": true
   },
   "outputs": [],
   "source": [
    "lm3.compile(Adam(), loss='categorical_crossentropy', metrics=['accuracy'])"
   ]
  },
  {
   "cell_type": "code",
   "execution_count": 85,
   "metadata": {
    "collapsed": false
   },
   "outputs": [
    {
     "name": "stdout",
     "output_type": "stream",
     "text": [
      "Epoch 1/1\n",
      "60000/60000 [==============================] - 20s - loss: 1.8323 - acc: 0.8200 - val_loss: 1.4734 - val_acc: 0.8447\n"
     ]
    },
    {
     "data": {
      "text/plain": [
       "<keras.callbacks.History at 0x7f98b2073210>"
      ]
     },
     "execution_count": 85,
     "metadata": {},
     "output_type": "execute_result"
    }
   ],
   "source": [
    "lm3.fit_generator(train_batches, train_batches.n, nb_epoch=1,\n",
    "                 validation_data=test_batches, nb_val_samples=test_batches.n)"
   ]
  },
  {
   "cell_type": "code",
   "execution_count": 87,
   "metadata": {
    "collapsed": false
   },
   "outputs": [
    {
     "name": "stdout",
     "output_type": "stream",
     "text": [
      "Epoch 1/1\n",
      "60000/60000 [==============================] - 20s - loss: 1.2251 - acc: 0.8487 - val_loss: 1.0058 - val_acc: 0.8507\n"
     ]
    },
    {
     "data": {
      "text/plain": [
       "<keras.callbacks.History at 0x7f98b1f36c50>"
      ]
     },
     "execution_count": 87,
     "metadata": {},
     "output_type": "execute_result"
    }
   ],
   "source": [
    "lm3.optimizer.lr = 0.1\n",
    "lm3.fit_generator(train_batches, train_batches.n, nb_epoch=3,\n",
    "                 validation_data=test_batches, nb_val_samples=test_batches.n)"
   ]
  },
  {
   "cell_type": "markdown",
   "metadata": {},
   "source": [
    "## Basic VGG style CNN"
   ]
  },
  {
   "cell_type": "code",
   "execution_count": 90,
   "metadata": {
    "collapsed": true
   },
   "outputs": [],
   "source": [
    "vgg = Sequential([\n",
    "        Lambda(normalize, input_shape=(1, 28, 28), output_shape=(1, 28, 28)),\n",
    "        Convolution2D(nb_filter=128, nb_row=3, nb_col=3, activation='relu'),\n",
    "        MaxPooling2D(pool_size=(2, 2), strides=(2, 2)),\n",
    "        Convolution2D(nb_filter=256, nb_row=3, nb_col=3, activation='relu'),\n",
    "        MaxPooling2D(pool_size=(2, 2), strides=(2, 2)),\n",
    "        Convolution2D(nb_filter=512, nb_row=3, nb_col=3, activation='relu'),\n",
    "        MaxPooling2D(pool_size=(2, 2), strides=(2, 2)),\n",
    "        Flatten(),\n",
    "        Dense(512, activation='relu'),\n",
    "        Dense(10, activation='softmax')\n",
    "    ])"
   ]
  },
  {
   "cell_type": "code",
   "execution_count": 91,
   "metadata": {
    "collapsed": true
   },
   "outputs": [],
   "source": [
    "vgg.compile(Adam(), loss='categorical_crossentropy', metrics=['accuracy'])"
   ]
  },
  {
   "cell_type": "code",
   "execution_count": null,
   "metadata": {
    "collapsed": false
   },
   "outputs": [
    {
     "name": "stdout",
     "output_type": "stream",
     "text": [
      "Epoch 1/1\n",
      "60000/60000 [==============================] - 2366s - loss: 0.1601 - acc: 0.9475 - val_loss: 0.0529 - val_acc: 0.9830\n"
     ]
    },
    {
     "data": {
      "text/plain": [
       "<keras.callbacks.History at 0x7f98ae64aed0>"
      ]
     },
     "execution_count": 93,
     "metadata": {},
     "output_type": "execute_result"
    }
   ],
   "source": [
    "vgg.fit_generator(train_batches, train_batches.n, nb_epoch=1,\n",
    "                 validation_data=test_batches, nb_val_samples=test_batches.n)"
   ]
  },
  {
   "cell_type": "markdown",
   "metadata": {},
   "source": [
    "## Check Data Augmentation"
   ]
  },
  {
   "cell_type": "code",
   "execution_count": 112,
   "metadata": {
    "collapsed": false
   },
   "outputs": [],
   "source": [
    "chk_gen = image.ImageDataGenerator(rotation_range=10,\n",
    "                                   width_shift_range=0.1,\n",
    "                                   height_shift_range=0.1,\n",
    "                                   shear_range=0.15)\n",
    "chk_iter = chk_gen.flow(np.expand_dims(x_train[0], 0))"
   ]
  },
  {
   "cell_type": "code",
   "execution_count": 114,
   "metadata": {
    "collapsed": false
   },
   "outputs": [],
   "source": [
    "aug_imgs = [next(chk_iter)[0] for i in range(8)]"
   ]
  },
  {
   "cell_type": "code",
   "execution_count": 140,
   "metadata": {
    "collapsed": false
   },
   "outputs": [
    {
     "data": {
      "text/plain": [
       "(1, 28, 28)"
      ]
     },
     "execution_count": 140,
     "metadata": {},
     "output_type": "execute_result"
    }
   ],
   "source": [
    "aug_imgs[0].shape"
   ]
  },
  {
   "cell_type": "code",
   "execution_count": 144,
   "metadata": {
    "collapsed": false
   },
   "outputs": [
    {
     "data": {
      "image/png": "[encoded data removed]",
      "text/plain": [
       "<matplotlib.figure.Figure at 0x7f9898401750>"
      ]
     },
     "metadata": {},
     "output_type": "display_data"
    }
   ],
   "source": [
    "f = plt.figure(figsize=(14, 14))\n",
    "for i in range(len(aug_imgs)):\n",
    "    sp = f.add_subplot(2, 4, i + 1)\n",
    "    sp.axis('Off')\n",
    "    plt.imshow(aug_imgs[i][0, :, :], cmap='gray')"
   ]
  },
  {
   "cell_type": "markdown",
   "metadata": {},
   "source": [
    "## VGG with Data Augmentation"
   ]
  },
  {
   "cell_type": "code",
   "execution_count": 154,
   "metadata": {
    "collapsed": false
   },
   "outputs": [],
   "source": [
    "aug_train_batches = image.ImageDataGenerator(rotation_range=10,\n",
    "                                         width_shift_range=0.1,\n",
    "                                         height_shift_range=0.1,\n",
    "                                         shear_range=0.15).flow(x_train, onehot_keras(y_train), \n",
    "                                                                batch_size=128, shuffle=True,)\n",
    "aug_test_batches = image.ImageDataGenerator(rotation_range=10,\n",
    "                                           width_shift_range=0.1,\n",
    "                                           height_shift_range=0.1,\n",
    "                                           shear_range=0.15).flow(x_test, onehot_keras(y_test), \n",
    "                                                                  batch_size=128, shuffle=True)"
   ]
  },
  {
   "cell_type": "code",
   "execution_count": 155,
   "metadata": {
    "collapsed": true
   },
   "outputs": [],
   "source": [
    "vgg1 = Sequential([\n",
    "        Lambda(normalize, input_shape=(1, 28, 28), output_shape=(1, 28, 28)),\n",
    "        Convolution2D(nb_filter=128, nb_row=3, nb_col=3, activation='relu'),\n",
    "        MaxPooling2D(pool_size=(2, 2), strides=(2, 2)),\n",
    "        Convolution2D(nb_filter=256, nb_row=3, nb_col=3, activation='relu'),\n",
    "        MaxPooling2D(pool_size=(2, 2), strides=(2, 2)),\n",
    "        Convolution2D(nb_filter=512, nb_row=3, nb_col=3, activation='relu'),\n",
    "        MaxPooling2D(pool_size=(2, 2), strides=(2, 2)),\n",
    "        Flatten(),\n",
    "        Dense(512, activation='relu'),\n",
    "        Dense(10, activation='softmax')\n",
    "    ])"
   ]
  },
  {
   "cell_type": "code",
   "execution_count": 156,
   "metadata": {
    "collapsed": true
   },
   "outputs": [],
   "source": [
    "vgg1.compile(Adam(), loss='categorical_crossentropy', metrics=['accuracy'])"
   ]
  },
  {
   "cell_type": "code",
   "execution_count": null,
   "metadata": {
    "collapsed": false
   },
   "outputs": [
    {
     "name": "stdout",
     "output_type": "stream",
     "text": [
      "Epoch 1/1\n",
      " 5120/60000 [=>............................] - ETA: 2047s - loss: 1.0654 - acc: 0.6432"
     ]
    }
   ],
   "source": [
    "vgg1.fit_generator(aug_train_batches, aug_train_batches.n, nb_epoch=1,\n",
    "                  validation_data=aug_test_batches, nb_val_samples=aug_test_batches.n)"
   ]
  },
  {
   "cell_type": "code",
   "execution_count": null,
   "metadata": {
    "collapsed": true
   },
   "outputs": [],
   "source": [
    "vgg1.summary()"
   ]
  }
 ],
 "metadata": {
  "kernelspec": {
   "display_name": "Python 2",
   "language": "python",
   "name": "python2"
  },
  "language_info": {
   "codemirror_mode": {
    "name": "ipython",
    "version": 2
   },
   "file_extension": ".py",
   "mimetype": "text/x-python",
   "name": "python",
   "nbconvert_exporter": "python",
   "pygments_lexer": "ipython2",
   "version": "2.7.6"
  }
 },
 "nbformat": 4,
 "nbformat_minor": 1
}
