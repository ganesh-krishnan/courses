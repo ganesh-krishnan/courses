{
 "cells": [
  {
   "cell_type": "code",
   "execution_count": 12,
   "metadata": {
    "collapsed": false
   },
   "outputs": [],
   "source": [
    "%matplotlib inline\n",
    "import numpy as np\n",
    "from keras.models import Sequential\n",
    "from keras.optimizers import Adam\n",
    "from keras.layers import Dense, \\\n",
    "    MaxPooling2D, \\\n",
    "    Convolution2D, \\\n",
    "    Dropout, \\\n",
    "    BatchNormalization, \\\n",
    "    ZeroPadding2D, \\\n",
    "    Lambda, \\\n",
    "    Flatten\n",
    "from keras.preprocessing import image\n",
    "from keras.utils.np_utils import to_categorical\n",
    "from keras.utils.data_utils import get_file\n",
    "from keras.datasets import mnist\n",
    "import matplotlib.pyplot as plt\n",
    "from utils import save_array, \\\n",
    "    load_array"
   ]
  },
  {
   "cell_type": "markdown",
   "metadata": {},
   "source": [
    "## Simple Linear Model"
   ]
  },
  {
   "cell_type": "markdown",
   "metadata": {},
   "source": [
    "### Create Dummy Dataset"
   ]
  },
  {
   "cell_type": "code",
   "execution_count": 2,
   "metadata": {
    "collapsed": true
   },
   "outputs": [],
   "source": [
    "n = 1000\n",
    "p = 3\n",
    "X = np.random.rand(n, p)\n",
    "w = np.array([5, 7, 2])\n",
    "y = np.dot(X, w)"
   ]
  },
  {
   "cell_type": "markdown",
   "metadata": {},
   "source": [
    "### Fit Model"
   ]
  },
  {
   "cell_type": "code",
   "execution_count": 46,
   "metadata": {
    "collapsed": false
   },
   "outputs": [
    {
     "name": "stdout",
     "output_type": "stream",
     "text": [
      "Epoch 1/100\n",
      "1000/1000 [==============================] - 0s - loss: 25.1412     \n",
      "Epoch 2/100\n",
      "1000/1000 [==============================] - 0s - loss: 4.4256     \n",
      "Epoch 3/100\n",
      "1000/1000 [==============================] - 0s - loss: 2.2725     \n",
      "Epoch 4/100\n",
      "1000/1000 [==============================] - 0s - loss: 1.9321     \n",
      "Epoch 5/100\n",
      "1000/1000 [==============================] - 0s - loss: 1.7843     \n",
      "Epoch 6/100\n",
      "1000/1000 [==============================] - 0s - loss: 1.6588     \n",
      "Epoch 7/100\n",
      "1000/1000 [==============================] - 0s - loss: 1.5427     \n",
      "Epoch 8/100\n",
      "1000/1000 [==============================] - 0s - loss: 1.4380     \n",
      "Epoch 9/100\n",
      "1000/1000 [==============================] - 0s - loss: 1.3400     \n",
      "Epoch 10/100\n",
      "1000/1000 [==============================] - 0s - loss: 1.2498     \n",
      "Epoch 11/100\n",
      "1000/1000 [==============================] - 0s - loss: 1.1663     \n",
      "Epoch 12/100\n",
      "1000/1000 [==============================] - 0s - loss: 1.0891     \n",
      "Epoch 13/100\n",
      "1000/1000 [==============================] - 0s - loss: 1.0177     \n",
      "Epoch 14/100\n",
      "1000/1000 [==============================] - 0s - loss: 0.9507     \n",
      "Epoch 15/100\n",
      "1000/1000 [==============================] - 0s - loss: 0.8888     \n",
      "Epoch 16/100\n",
      "1000/1000 [==============================] - 0s - loss: 0.8295     \n",
      "Epoch 17/100\n",
      "1000/1000 [==============================] - 0s - loss: 0.7748     \n",
      "Epoch 18/100\n",
      "1000/1000 [==============================] - 0s - loss: 0.7250     \n",
      "Epoch 19/100\n",
      "1000/1000 [==============================] - 0s - loss: 0.6773     \n",
      "Epoch 20/100\n",
      "1000/1000 [==============================] - 0s - loss: 0.6341     \n",
      "Epoch 21/100\n",
      "1000/1000 [==============================] - 0s - loss: 0.5931     \n",
      "Epoch 22/100\n",
      "1000/1000 [==============================] - 0s - loss: 0.5553     \n",
      "Epoch 23/100\n",
      "1000/1000 [==============================] - 0s - loss: 0.5197     \n",
      "Epoch 24/100\n",
      "1000/1000 [==============================] - 0s - loss: 0.4863     \n",
      "Epoch 25/100\n",
      "1000/1000 [==============================] - 0s - loss: 0.4558     \n",
      "Epoch 26/100\n",
      "1000/1000 [==============================] - 0s - loss: 0.4273     \n",
      "Epoch 27/100\n",
      "1000/1000 [==============================] - 0s - loss: 0.4003     \n",
      "Epoch 28/100\n",
      "1000/1000 [==============================] - 0s - loss: 0.3757     \n",
      "Epoch 29/100\n",
      "1000/1000 [==============================] - 0s - loss: 0.3518     \n",
      "Epoch 30/100\n",
      "1000/1000 [==============================] - 0s - loss: 0.3299     \n",
      "Epoch 31/100\n",
      "1000/1000 [==============================] - 0s - loss: 0.3096     \n",
      "Epoch 32/100\n",
      "1000/1000 [==============================] - 0s - loss: 0.2901     \n",
      "Epoch 33/100\n",
      "1000/1000 [==============================] - 0s - loss: 0.2719     \n",
      "Epoch 34/100\n",
      "1000/1000 [==============================] - 0s - loss: 0.2549     \n",
      "Epoch 35/100\n",
      "1000/1000 [==============================] - 0s - loss: 0.2394     \n",
      "Epoch 36/100\n",
      "1000/1000 [==============================] - 0s - loss: 0.2248     \n",
      "Epoch 37/100\n",
      "1000/1000 [==============================] - 0s - loss: 0.2113     \n",
      "Epoch 38/100\n",
      "1000/1000 [==============================] - 0s - loss: 0.1985     \n",
      "Epoch 39/100\n",
      "1000/1000 [==============================] - 0s - loss: 0.1866     \n",
      "Epoch 40/100\n",
      "1000/1000 [==============================] - 0s - loss: 0.1753     \n",
      "Epoch 41/100\n",
      "1000/1000 [==============================] - 0s - loss: 0.1645     \n",
      "Epoch 42/100\n",
      "1000/1000 [==============================] - 0s - loss: 0.1545     \n",
      "Epoch 43/100\n",
      "1000/1000 [==============================] - 0s - loss: 0.1452     \n",
      "Epoch 44/100\n",
      "1000/1000 [==============================] - 0s - loss: 0.1361     \n",
      "Epoch 45/100\n",
      "1000/1000 [==============================] - 0s - loss: 0.1277     \n",
      "Epoch 46/100\n",
      "1000/1000 [==============================] - 0s - loss: 0.1199     \n",
      "Epoch 47/100\n",
      "1000/1000 [==============================] - 0s - loss: 0.1127     \n",
      "Epoch 48/100\n",
      "1000/1000 [==============================] - 0s - loss: 0.1060     \n",
      "Epoch 49/100\n",
      "1000/1000 [==============================] - 0s - loss: 0.0996     \n",
      "Epoch 50/100\n",
      "1000/1000 [==============================] - 0s - loss: 0.0936     \n",
      "Epoch 51/100\n",
      "1000/1000 [==============================] - 0s - loss: 0.0881     \n",
      "Epoch 52/100\n",
      "1000/1000 [==============================] - 0s - loss: 0.0828     \n",
      "Epoch 53/100\n",
      "1000/1000 [==============================] - 0s - loss: 0.0780     \n",
      "Epoch 54/100\n",
      "1000/1000 [==============================] - 0s - loss: 0.0733     \n",
      "Epoch 55/100\n",
      "1000/1000 [==============================] - 0s - loss: 0.0689     \n",
      "Epoch 56/100\n",
      "1000/1000 [==============================] - 0s - loss: 0.0648     \n",
      "Epoch 57/100\n",
      "1000/1000 [==============================] - 0s - loss: 0.0610     \n",
      "Epoch 58/100\n",
      "1000/1000 [==============================] - 0s - loss: 0.0574     \n",
      "Epoch 59/100\n",
      "1000/1000 [==============================] - 0s - loss: 0.0539     \n",
      "Epoch 60/100\n",
      "1000/1000 [==============================] - 0s - loss: 0.0507     \n",
      "Epoch 61/100\n",
      "1000/1000 [==============================] - 0s - loss: 0.0477     \n",
      "Epoch 62/100\n",
      "1000/1000 [==============================] - 0s - loss: 0.0448     \n",
      "Epoch 63/100\n",
      "1000/1000 [==============================] - 0s - loss: 0.0421     \n",
      "Epoch 64/100\n",
      "1000/1000 [==============================] - 0s - loss: 0.0396     \n",
      "Epoch 65/100\n",
      "1000/1000 [==============================] - 0s - loss: 0.0373     \n",
      "Epoch 66/100\n",
      "1000/1000 [==============================] - 0s - loss: 0.0351     \n",
      "Epoch 67/100\n",
      "1000/1000 [==============================] - 0s - loss: 0.0331     \n",
      "Epoch 68/100\n",
      "1000/1000 [==============================] - 0s - loss: 0.0311     \n",
      "Epoch 69/100\n",
      "1000/1000 [==============================] - 0s - loss: 0.0293     \n",
      "Epoch 70/100\n",
      "1000/1000 [==============================] - 0s - loss: 0.0275     \n",
      "Epoch 71/100\n",
      "1000/1000 [==============================] - 0s - loss: 0.0259     \n",
      "Epoch 72/100\n",
      "1000/1000 [==============================] - 0s - loss: 0.0244     \n",
      "Epoch 73/100\n",
      "1000/1000 [==============================] - 0s - loss: 0.0230     \n",
      "Epoch 74/100\n",
      "1000/1000 [==============================] - 0s - loss: 0.0217     \n",
      "Epoch 75/100\n",
      "1000/1000 [==============================] - 0s - loss: 0.0204     \n",
      "Epoch 76/100\n",
      "1000/1000 [==============================] - 0s - loss: 0.0192     \n",
      "Epoch 77/100\n",
      "1000/1000 [==============================] - 0s - loss: 0.0181     \n",
      "Epoch 78/100\n",
      "1000/1000 [==============================] - 0s - loss: 0.0170     \n",
      "Epoch 79/100\n",
      "1000/1000 [==============================] - 0s - loss: 0.0161     \n",
      "Epoch 80/100\n",
      "1000/1000 [==============================] - 0s - loss: 0.0151     \n",
      "Epoch 81/100\n",
      "1000/1000 [==============================] - 0s - loss: 0.0142     \n",
      "Epoch 82/100\n",
      "1000/1000 [==============================] - 0s - loss: 0.0134     \n",
      "Epoch 83/100\n",
      "1000/1000 [==============================] - 0s - loss: 0.0126     \n",
      "Epoch 84/100\n",
      "1000/1000 [==============================] - 0s - loss: 0.0119     \n",
      "Epoch 85/100\n",
      "1000/1000 [==============================] - 0s - loss: 0.0112     \n",
      "Epoch 86/100\n",
      "1000/1000 [==============================] - 0s - loss: 0.0105     \n",
      "Epoch 87/100\n",
      "1000/1000 [==============================] - 0s - loss: 0.0099     \n",
      "Epoch 88/100\n",
      "1000/1000 [==============================] - 0s - loss: 0.0093     \n",
      "Epoch 89/100\n",
      "1000/1000 [==============================] - 0s - loss: 0.0088     \n",
      "Epoch 90/100\n",
      "1000/1000 [==============================] - 0s - loss: 0.0083     \n",
      "Epoch 91/100\n",
      "1000/1000 [==============================] - 0s - loss: 0.0078     \n",
      "Epoch 92/100\n",
      "1000/1000 [==============================] - 0s - loss: 0.0073     \n",
      "Epoch 93/100\n",
      "1000/1000 [==============================] - 0s - loss: 0.0069     \n",
      "Epoch 94/100\n",
      "1000/1000 [==============================] - 0s - loss: 0.0065     \n",
      "Epoch 95/100\n",
      "1000/1000 [==============================] - 0s - loss: 0.0061     \n",
      "Epoch 96/100\n",
      "1000/1000 [==============================] - 0s - loss: 0.0058     \n",
      "Epoch 97/100\n",
      "1000/1000 [==============================] - 0s - loss: 0.0054     \n",
      "Epoch 98/100\n",
      "1000/1000 [==============================] - 0s - loss: 0.0051     \n",
      "Epoch 99/100\n",
      "1000/1000 [==============================] - 0s - loss: 0.0048     \n",
      "Epoch 100/100\n",
      "1000/1000 [==============================] - 0s - loss: 0.0045     \n"
     ]
    },
    {
     "data": {
      "text/plain": [
       "<keras.callbacks.History at 0x7fb877dd0450>"
      ]
     },
     "execution_count": 46,
     "metadata": {},
     "output_type": "execute_result"
    }
   ],
   "source": [
    "model = Sequential([Dense(1, input_dim=3)])\n",
    "model.compile(optimizer='sgd', loss='mean_squared_error')\n",
    "model.fit(X, y, nb_epoch=100)"
   ]
  },
  {
   "cell_type": "code",
   "execution_count": 47,
   "metadata": {
    "collapsed": false
   },
   "outputs": [
    {
     "data": {
      "text/plain": [
       "[array([[ 4.87689924],\n",
       "        [ 6.86038113],\n",
       "        [ 1.86813855]], dtype=float32), array([ 0.20528407], dtype=float32)]"
      ]
     },
     "execution_count": 47,
     "metadata": {},
     "output_type": "execute_result"
    }
   ],
   "source": [
    "model.layers[0].get_weights()"
   ]
  },
  {
   "cell_type": "markdown",
   "metadata": {},
   "source": [
    "## DogsVsCats Linear Model using VGG outputs"
   ]
  },
  {
   "cell_type": "code",
   "execution_count": 3,
   "metadata": {
    "collapsed": true
   },
   "outputs": [],
   "source": [
    "def onehot_keras(x):\n",
    "    return to_categorical(x)"
   ]
  },
  {
   "cell_type": "code",
   "execution_count": 4,
   "metadata": {
    "collapsed": false
   },
   "outputs": [
    {
     "name": "stdout",
     "output_type": "stream",
     "text": [
      "Downloading data from https://s3.amazonaws.com/img-datasets/mnist.pkl.gz\n"
     ]
    }
   ],
   "source": [
    "(X_train, y_train), (X_test, y_test) = mnist.load_data()\n",
    "X_train = np.expand_dims(X_train, axis=1)\n",
    "X_test = np.expand_dims(X_test, axis=1)\n",
    "y_train = onehot_keras(y_train)\n",
    "y_test = onehot_keras(y_test)\n",
    "vgg_mean = np.array([123.68, 116.779, 103.939], dtype=np.float32).reshape((3, 1, 1))\n",
    "model_url = 'http://files.fast.ai/models/vgg16.h5'\n",
    "model_save_folder = '/mnt/models/mnist/'\n",
    "model_file_name = 'conv.h5'\n",
    "train_preds_file_name = 'train_preds.bc'\n",
    "test_preds_file_name = 'test_preds.bc'"
   ]
  },
  {
   "cell_type": "code",
   "execution_count": 5,
   "metadata": {
    "collapsed": false
   },
   "outputs": [],
   "source": [
    "def get_batches(path, batch_size=4, idg=image.ImageDataGenerator(), shuffle=True, class_mode='categorical'):\n",
    "    return idg.flow_from_directory(path, batch_size=batch_size, target_size=(224, 224), \n",
    "                                   shuffle=shuffle, class_mode=class_mode)"
   ]
  },
  {
   "cell_type": "code",
   "execution_count": 6,
   "metadata": {
    "collapsed": true
   },
   "outputs": [],
   "source": [
    "def addConvBlock(model, layers, filters):\n",
    "    for layer in range(layers):\n",
    "        model.add(ZeroPadding2D(padding=(1, 1)))\n",
    "        model.add(Convolution2D(nb_filter=filters, nb_col=3, nb_row=3, activation='relu'))\n",
    "    model.add(MaxPooling2D(pool_size=(2, 2), strides=(2,2)))"
   ]
  },
  {
   "cell_type": "code",
   "execution_count": 7,
   "metadata": {
    "collapsed": true
   },
   "outputs": [],
   "source": [
    "def addFCBlock(model):\n",
    "    model.add(Dense(4096, activation='relu'))\n",
    "    model.add(Dropout(0.5))"
   ]
  },
  {
   "cell_type": "code",
   "execution_count": 8,
   "metadata": {
    "collapsed": true
   },
   "outputs": [],
   "source": [
    "X_mean = np.mean(X_train).astype('float32')\n",
    "X_sd = np.std(X_train).astype('float32')\n",
    "def pre_process(X):\n",
    "    X = (X - X_mean)/X_sd\n",
    "    return X"
   ]
  },
  {
   "cell_type": "code",
   "execution_count": 9,
   "metadata": {
    "collapsed": false
   },
   "outputs": [],
   "source": [
    "def create():\n",
    "    model = Sequential()\n",
    "    model.add(Lambda(pre_process, input_shape=(1, 28, 28), output_shape=(1, 28, 28)))\n",
    "    addConvBlock(model, 2, 64)\n",
    "    addConvBlock(model, 2, 128)\n",
    "    model.add(Flatten())\n",
    "    addFCBlock(model)\n",
    "    addFCBlock(model)\n",
    "    model.add(Dense(10, activation='softmax'))\n",
    "    return model"
   ]
  },
  {
   "cell_type": "code",
   "execution_count": 10,
   "metadata": {
    "collapsed": false
   },
   "outputs": [],
   "source": [
    "model = create()"
   ]
  },
  {
   "cell_type": "code",
   "execution_count": 44,
   "metadata": {
    "collapsed": false
   },
   "outputs": [
    {
     "name": "stdout",
     "output_type": "stream",
     "text": [
      "____________________________________________________________________________________________________\n",
      "Layer (type)                     Output Shape          Param #     Connected to                     \n",
      "====================================================================================================\n",
      "lambda_6 (Lambda)                (None, 1, 28, 28)     0           lambda_input_6[0][0]             \n",
      "____________________________________________________________________________________________________\n",
      "zeropadding2d_48 (ZeroPadding2D) (None, 1, 30, 30)     0           lambda_6[0][0]                   \n",
      "____________________________________________________________________________________________________\n",
      "convolution2d_48 (Convolution2D) (None, 64, 28, 28)    640         zeropadding2d_48[0][0]           \n",
      "____________________________________________________________________________________________________\n",
      "zeropadding2d_49 (ZeroPadding2D) (None, 64, 30, 30)    0           convolution2d_48[0][0]           \n",
      "____________________________________________________________________________________________________\n",
      "convolution2d_49 (Convolution2D) (None, 64, 28, 28)    36928       zeropadding2d_49[0][0]           \n",
      "____________________________________________________________________________________________________\n",
      "maxpooling2d_20 (MaxPooling2D)   (None, 64, 14, 14)    0           convolution2d_49[0][0]           \n",
      "____________________________________________________________________________________________________\n",
      "zeropadding2d_50 (ZeroPadding2D) (None, 64, 16, 16)    0           maxpooling2d_20[0][0]            \n",
      "____________________________________________________________________________________________________\n",
      "convolution2d_50 (Convolution2D) (None, 128, 14, 14)   73856       zeropadding2d_50[0][0]           \n",
      "____________________________________________________________________________________________________\n",
      "zeropadding2d_51 (ZeroPadding2D) (None, 128, 16, 16)   0           convolution2d_50[0][0]           \n",
      "____________________________________________________________________________________________________\n",
      "convolution2d_51 (Convolution2D) (None, 128, 14, 14)   147584      zeropadding2d_51[0][0]           \n",
      "____________________________________________________________________________________________________\n",
      "maxpooling2d_21 (MaxPooling2D)   (None, 128, 7, 7)     0           convolution2d_51[0][0]           \n",
      "____________________________________________________________________________________________________\n",
      "flatten_6 (Flatten)              (None, 6272)          0           maxpooling2d_21[0][0]            \n",
      "____________________________________________________________________________________________________\n",
      "dense_10 (Dense)                 (None, 4096)          25694208    flatten_6[0][0]                  \n",
      "____________________________________________________________________________________________________\n",
      "dropout_7 (Dropout)              (None, 4096)          0           dense_10[0][0]                   \n",
      "____________________________________________________________________________________________________\n",
      "dense_11 (Dense)                 (None, 4096)          16781312    dropout_7[0][0]                  \n",
      "____________________________________________________________________________________________________\n",
      "dropout_8 (Dropout)              (None, 4096)          0           dense_11[0][0]                   \n",
      "____________________________________________________________________________________________________\n",
      "dense_12 (Dense)                 (None, 10)            40970       dropout_8[0][0]                  \n",
      "====================================================================================================\n",
      "Total params: 42,775,498\n",
      "Trainable params: 42,775,498\n",
      "Non-trainable params: 0\n",
      "____________________________________________________________________________________________________\n"
     ]
    }
   ],
   "source": [
    "model.summary()"
   ]
  },
  {
   "cell_type": "code",
   "execution_count": 13,
   "metadata": {
    "collapsed": false
   },
   "outputs": [
    {
     "name": "stdout",
     "output_type": "stream",
     "text": [
      "Train on 60000 samples, validate on 10000 samples\n",
      "Epoch 1/1\n",
      "60000/60000 [==============================] - 7590s - loss: 0.1432 - acc: 0.9568 - val_loss: 0.0418 - val_acc: 0.9877\n"
     ]
    },
    {
     "data": {
      "text/plain": [
       "<keras.callbacks.History at 0x7f0a23e75fd0>"
      ]
     },
     "execution_count": 13,
     "metadata": {},
     "output_type": "execute_result"
    }
   ],
   "source": [
    "model.compile(optimizer=Adam(lr=0.001), loss='categorical_crossentropy', metrics=['accuracy'])\n",
    "model.fit(X_train, y_train, nb_epoch=1, validation_data=(X_test, y_test))"
   ]
  },
  {
   "cell_type": "code",
   "execution_count": 17,
   "metadata": {
    "collapsed": false
   },
   "outputs": [],
   "source": [
    "model.save_weights(model_save_folder + model_file_name)"
   ]
  },
  {
   "cell_type": "code",
   "execution_count": null,
   "metadata": {
    "collapsed": true
   },
   "outputs": [],
   "source": [
    "train_preds = model.predict(X_train)\n",
    "test_preds = model.predict(X_test)"
   ]
  },
  {
   "cell_type": "code",
   "execution_count": 13,
   "metadata": {
    "collapsed": false
   },
   "outputs": [],
   "source": [
    "# save_array(model_save_folder + train_preds_file_name, train_preds)\n",
    "# save_array(model_save_folder + test_preds_file_name, test_preds)\n",
    "train_preds = load_array(model_save_folder + train_preds_file_name)\n",
    "test_preds = load_array(model_save_folder + test_preds_file_name)"
   ]
  },
  {
   "cell_type": "markdown",
   "metadata": {},
   "source": [
    "### Build linear model using predictions"
   ]
  },
  {
   "cell_type": "code",
   "execution_count": 14,
   "metadata": {
    "collapsed": false
   },
   "outputs": [],
   "source": [
    "lm_model = Sequential([Dense(10, activation='softmax', input_dim=10)])"
   ]
  },
  {
   "cell_type": "code",
   "execution_count": 15,
   "metadata": {
    "collapsed": false
   },
   "outputs": [
    {
     "name": "stdout",
     "output_type": "stream",
     "text": [
      "____________________________________________________________________________________________________\n",
      "Layer (type)                     Output Shape          Param #     Connected to                     \n",
      "====================================================================================================\n",
      "dense_4 (Dense)                  (None, 10)            110         dense_input_1[0][0]              \n",
      "====================================================================================================\n",
      "Total params: 110\n",
      "Trainable params: 110\n",
      "Non-trainable params: 0\n",
      "____________________________________________________________________________________________________\n"
     ]
    }
   ],
   "source": [
    "lm_model.summary()"
   ]
  },
  {
   "cell_type": "code",
   "execution_count": 16,
   "metadata": {
    "collapsed": false
   },
   "outputs": [
    {
     "name": "stdout",
     "output_type": "stream",
     "text": [
      "Train on 60000 samples, validate on 10000 samples\n",
      "Epoch 1/1\n",
      "60000/60000 [==============================] - 7s - loss: 1.2470 - acc: 0.8488 - val_loss: 0.5132 - val_acc: 0.9874\n"
     ]
    },
    {
     "data": {
      "text/plain": [
       "<keras.callbacks.History at 0x7f198a24db10>"
      ]
     },
     "execution_count": 16,
     "metadata": {},
     "output_type": "execute_result"
    }
   ],
   "source": [
    "lm_model.compile(optimizer=Adam(lr=0.001), loss='categorical_crossentropy', metrics=['accuracy'])\n",
    "lm_model.fit(train_preds, y_train, validation_data=(test_preds, y_test), nb_epoch=1)"
   ]
  }
 ],
 "metadata": {
  "kernelspec": {
   "display_name": "Python 2",
   "language": "python",
   "name": "python2"
  },
  "language_info": {
   "codemirror_mode": {
    "name": "ipython",
    "version": 2
   },
   "file_extension": ".py",
   "mimetype": "text/x-python",
   "name": "python",
   "nbconvert_exporter": "python",
   "pygments_lexer": "ipython2",
   "version": "2.7.6"
  }
 },
 "nbformat": 4,
 "nbformat_minor": 1
}
