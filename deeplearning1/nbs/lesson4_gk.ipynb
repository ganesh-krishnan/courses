{
 "cells": [
  {
   "cell_type": "code",
   "execution_count": 1,
   "metadata": {
    "collapsed": false
   },
   "outputs": [],
   "source": [
    "from theano.sandbox import cuda"
   ]
  },
  {
   "cell_type": "code",
   "execution_count": 2,
   "metadata": {
    "collapsed": false
   },
   "outputs": [
    {
     "name": "stderr",
     "output_type": "stream",
     "text": [
      "Using TensorFlow backend.\n"
     ]
    }
   ],
   "source": [
    "%matplotlib inline\n",
    "import utils; reload(utils)\n",
    "from utils import *\n",
    "from __future__ import division, print_function\n",
    "from keras.layers import Embedding"
   ]
  },
  {
   "cell_type": "code",
   "execution_count": 3,
   "metadata": {
    "collapsed": false
   },
   "outputs": [],
   "source": [
    "#path = \"data/ml-20m/\"\n",
    "path = \"/mnt/data/ml-latest-small/\"\n",
    "model_path = '/mnt/models/ml-latest-small/'\n",
    "if not os.path.exists(model_path): os.mkdir(model_path)\n",
    "batch_size=64"
   ]
  },
  {
   "cell_type": "markdown",
   "metadata": {
    "heading_collapsed": true
   },
   "source": [
    "## Set up data"
   ]
  },
  {
   "cell_type": "markdown",
   "metadata": {
    "hidden": true
   },
   "source": [
    "We're working with the movielens data, which contains one rating per row, like this:"
   ]
  },
  {
   "cell_type": "code",
   "execution_count": 4,
   "metadata": {
    "collapsed": false,
    "hidden": true,
    "scrolled": true
   },
   "outputs": [
    {
     "data": {
      "text/html": [
       "<div>\n",
       "<table border=\"1\" class=\"dataframe\">\n",
       "  <thead>\n",
       "    <tr style=\"text-align: right;\">\n",
       "      <th></th>\n",
       "      <th>userId</th>\n",
       "      <th>movieId</th>\n",
       "      <th>rating</th>\n",
       "      <th>timestamp</th>\n",
       "    </tr>\n",
       "  </thead>\n",
       "  <tbody>\n",
       "    <tr>\n",
       "      <th>0</th>\n",
       "      <td>1</td>\n",
       "      <td>31</td>\n",
       "      <td>2.5</td>\n",
       "      <td>1260759144</td>\n",
       "    </tr>\n",
       "    <tr>\n",
       "      <th>1</th>\n",
       "      <td>1</td>\n",
       "      <td>1029</td>\n",
       "      <td>3.0</td>\n",
       "      <td>1260759179</td>\n",
       "    </tr>\n",
       "    <tr>\n",
       "      <th>2</th>\n",
       "      <td>1</td>\n",
       "      <td>1061</td>\n",
       "      <td>3.0</td>\n",
       "      <td>1260759182</td>\n",
       "    </tr>\n",
       "    <tr>\n",
       "      <th>3</th>\n",
       "      <td>1</td>\n",
       "      <td>1129</td>\n",
       "      <td>2.0</td>\n",
       "      <td>1260759185</td>\n",
       "    </tr>\n",
       "    <tr>\n",
       "      <th>4</th>\n",
       "      <td>1</td>\n",
       "      <td>1172</td>\n",
       "      <td>4.0</td>\n",
       "      <td>1260759205</td>\n",
       "    </tr>\n",
       "  </tbody>\n",
       "</table>\n",
       "</div>"
      ],
      "text/plain": [
       "   userId  movieId  rating   timestamp\n",
       "0       1       31     2.5  1260759144\n",
       "1       1     1029     3.0  1260759179\n",
       "2       1     1061     3.0  1260759182\n",
       "3       1     1129     2.0  1260759185\n",
       "4       1     1172     4.0  1260759205"
      ]
     },
     "execution_count": 4,
     "metadata": {},
     "output_type": "execute_result"
    }
   ],
   "source": [
    "ratings = pd.read_csv(path+'ratings.csv')\n",
    "ratings.head()"
   ]
  },
  {
   "cell_type": "code",
   "execution_count": 5,
   "metadata": {
    "collapsed": false,
    "hidden": true
   },
   "outputs": [
    {
     "data": {
      "text/html": [
       "<div>\n",
       "<table border=\"1\" class=\"dataframe\">\n",
       "  <thead>\n",
       "    <tr style=\"text-align: right;\">\n",
       "      <th></th>\n",
       "      <th>title</th>\n",
       "      <th>genres</th>\n",
       "    </tr>\n",
       "    <tr>\n",
       "      <th>movieId</th>\n",
       "      <th></th>\n",
       "      <th></th>\n",
       "    </tr>\n",
       "  </thead>\n",
       "  <tbody>\n",
       "    <tr>\n",
       "      <th>1</th>\n",
       "      <td>Toy Story (1995)</td>\n",
       "      <td>Adventure|Animation|Children|Comedy|Fantasy</td>\n",
       "    </tr>\n",
       "    <tr>\n",
       "      <th>2</th>\n",
       "      <td>Jumanji (1995)</td>\n",
       "      <td>Adventure|Children|Fantasy</td>\n",
       "    </tr>\n",
       "    <tr>\n",
       "      <th>3</th>\n",
       "      <td>Grumpier Old Men (1995)</td>\n",
       "      <td>Comedy|Romance</td>\n",
       "    </tr>\n",
       "    <tr>\n",
       "      <th>4</th>\n",
       "      <td>Waiting to Exhale (1995)</td>\n",
       "      <td>Comedy|Drama|Romance</td>\n",
       "    </tr>\n",
       "    <tr>\n",
       "      <th>5</th>\n",
       "      <td>Father of the Bride Part II (1995)</td>\n",
       "      <td>Comedy</td>\n",
       "    </tr>\n",
       "  </tbody>\n",
       "</table>\n",
       "</div>"
      ],
      "text/plain": [
       "                                      title  \\\n",
       "movieId                                       \n",
       "1                          Toy Story (1995)   \n",
       "2                            Jumanji (1995)   \n",
       "3                   Grumpier Old Men (1995)   \n",
       "4                  Waiting to Exhale (1995)   \n",
       "5        Father of the Bride Part II (1995)   \n",
       "\n",
       "                                              genres  \n",
       "movieId                                               \n",
       "1        Adventure|Animation|Children|Comedy|Fantasy  \n",
       "2                         Adventure|Children|Fantasy  \n",
       "3                                     Comedy|Romance  \n",
       "4                               Comedy|Drama|Romance  \n",
       "5                                             Comedy  "
      ]
     },
     "execution_count": 5,
     "metadata": {},
     "output_type": "execute_result"
    }
   ],
   "source": [
    "movie_names = pd.read_csv(path + 'movies.csv')\n",
    "movie_names = movie_names.set_index('movieId')\n",
    "movie_names.head()"
   ]
  },
  {
   "cell_type": "code",
   "execution_count": 6,
   "metadata": {
    "collapsed": false
   },
   "outputs": [],
   "source": [
    "movies = ratings.movieId.unique()\n",
    "users = ratings.userId.unique()\n",
    "movie2idx = {movie_id:idx for idx, movie_id in enumerate(movies)}\n",
    "user2idx = {user_id:idx for idx, user_id in enumerate(users)}"
   ]
  },
  {
   "cell_type": "code",
   "execution_count": 7,
   "metadata": {
    "collapsed": false
   },
   "outputs": [],
   "source": [
    "ratings['new_user_id'] = ratings.userId.apply(lambda x: user2idx[x])\n",
    "ratings['new_movie_id'] = ratings.movieId.apply(lambda x: movie2idx[x])"
   ]
  },
  {
   "cell_type": "code",
   "execution_count": 8,
   "metadata": {
    "collapsed": false,
    "hidden": true
   },
   "outputs": [],
   "source": [
    "n_movies = ratings.movieId.nunique()\n",
    "n_users = ratings.userId.nunique()"
   ]
  },
  {
   "cell_type": "markdown",
   "metadata": {},
   "source": [
    "## Split into training and validation data"
   ]
  },
  {
   "cell_type": "code",
   "execution_count": 9,
   "metadata": {
    "collapsed": false
   },
   "outputs": [],
   "source": [
    "msk = (np.random.rand(len(ratings)) < 0.8)\n",
    "trn = ratings[msk]\n",
    "val = ratings[~msk]"
   ]
  },
  {
   "cell_type": "markdown",
   "metadata": {},
   "source": [
    "## Config"
   ]
  },
  {
   "cell_type": "code",
   "execution_count": 9,
   "metadata": {
    "collapsed": true
   },
   "outputs": [],
   "source": [
    "n_factors = 50"
   ]
  },
  {
   "cell_type": "markdown",
   "metadata": {},
   "source": [
    "## Fit Dot Product Model"
   ]
  },
  {
   "cell_type": "code",
   "execution_count": 61,
   "metadata": {
    "collapsed": false
   },
   "outputs": [],
   "source": [
    "movie_in = Input(shape=(1,), dtype='int64', name='movie_in')\n",
    "user_in = Input(shape=(1,), dtype='int64', name='user_in')\n",
    "movie_emb = Embedding(n_movies, n_factors, input_length=1, W_regularizer=l2(1e-4))(movie_in)\n",
    "user_emb = Embedding(n_movies, n_factors, input_length=1, W_regularizer=l2(1e-4))(user_in)"
   ]
  },
  {
   "cell_type": "code",
   "execution_count": 62,
   "metadata": {
    "collapsed": false
   },
   "outputs": [],
   "source": [
    "x = merge([user_emb, movie_emb], mode='dot')\n",
    "x = Flatten()(x)\n",
    "model = Model([user_in, movie_in], x)\n",
    "model.compile(optimizer=Adam(0.01), loss='mse')"
   ]
  },
  {
   "cell_type": "code",
   "execution_count": 49,
   "metadata": {
    "collapsed": false
   },
   "outputs": [
    {
     "name": "stdout",
     "output_type": "stream",
     "text": [
      "Train on 80186 samples, validate on 19818 samples\n",
      "Epoch 1/10\n",
      "80186/80186 [==============================] - 5s - loss: 5.0599 - val_loss: 3.4525\n",
      "Epoch 2/10\n",
      "80186/80186 [==============================] - 5s - loss: 3.2580 - val_loss: 3.6369\n",
      "Epoch 3/10\n",
      "80186/80186 [==============================] - 5s - loss: 3.1716 - val_loss: 3.6626\n",
      "Epoch 4/10\n",
      "80186/80186 [==============================] - 5s - loss: 3.0621 - val_loss: 3.6256\n",
      "Epoch 5/10\n",
      "80186/80186 [==============================] - 5s - loss: 2.9817 - val_loss: 3.6040\n",
      "Epoch 6/10\n",
      "80186/80186 [==============================] - 6s - loss: 2.8927 - val_loss: 3.5577\n",
      "Epoch 7/10\n",
      "80186/80186 [==============================] - 5s - loss: 2.8284 - val_loss: 3.5328\n",
      "Epoch 8/10\n",
      "80186/80186 [==============================] - 5s - loss: 2.7717 - val_loss: 3.4825\n",
      "Epoch 9/10\n",
      "80186/80186 [==============================] - 5s - loss: 2.7378 - val_loss: 3.4557\n",
      "Epoch 10/10\n",
      "80186/80186 [==============================] - 5s - loss: 2.6979 - val_loss: 3.4371\n"
     ]
    },
    {
     "data": {
      "text/plain": [
       "<keras.callbacks.History at 0x7f9eec048fd0>"
      ]
     },
     "execution_count": 49,
     "metadata": {},
     "output_type": "execute_result"
    }
   ],
   "source": [
    "model.fit([trn.new_user_id, trn.new_movie_id], trn.rating, nb_epoch=10, batch_size=64,\n",
    "          validation_data=([val.new_user_id, val.new_movie_id], val.rating))"
   ]
  },
  {
   "cell_type": "markdown",
   "metadata": {},
   "source": [
    "## Bias Model"
   ]
  },
  {
   "cell_type": "code",
   "execution_count": 81,
   "metadata": {
    "collapsed": true
   },
   "outputs": [],
   "source": [
    "user_in = Input(shape=(1,), dtype='int64', name='user_in')\n",
    "user_emb = Embedding(input_dim=n_users, output_dim=n_factors, input_length=1, W_regularizer=l2(1e-4))(user_in)\n",
    "movie_in = Input(shape=(1,), dtype='int64', name='movie_in')\n",
    "movie_emb = Embedding(input_dim=n_movies, output_dim=n_factors, input_length=1, W_regularizer=l2(1e-4))(movie_in)"
   ]
  },
  {
   "cell_type": "code",
   "execution_count": 82,
   "metadata": {
    "collapsed": true
   },
   "outputs": [],
   "source": [
    "movie_bias = Embedding(input_dim=n_movies, output_dim=1, input_length=1)(movie_in)\n",
    "user_bias = Embedding(input_dim=n_users, output_dim=1, input_length=1)(user_in)"
   ]
  },
  {
   "cell_type": "code",
   "execution_count": 83,
   "metadata": {
    "collapsed": false
   },
   "outputs": [],
   "source": [
    "x = merge([user_emb, movie_emb], mode='dot')\n",
    "x = merge([x, user_bias], mode='sum')\n",
    "x = merge([x, movie_bias], mode='sum')\n",
    "x = Flatten()(x)"
   ]
  },
  {
   "cell_type": "code",
   "execution_count": 84,
   "metadata": {
    "collapsed": true
   },
   "outputs": [],
   "source": [
    "model = Model([user_in, movie_in], x)\n",
    "model.compile(optimizer=Adam(0.001), loss='mse')"
   ]
  },
  {
   "cell_type": "code",
   "execution_count": 85,
   "metadata": {
    "collapsed": false
   },
   "outputs": [
    {
     "name": "stdout",
     "output_type": "stream",
     "text": [
      "Train on 80196 samples, validate on 19808 samples\n",
      "Epoch 1/1\n",
      "80196/80196 [==============================] - 5s - loss: 8.8340 - val_loss: 3.5727\n"
     ]
    },
    {
     "data": {
      "text/plain": [
       "<keras.callbacks.History at 0x7f5f5c70fd90>"
      ]
     },
     "execution_count": 85,
     "metadata": {},
     "output_type": "execute_result"
    }
   ],
   "source": [
    "model.fit([trn.new_user_id, trn.new_movie_id], trn.rating, nb_epoch=1,\n",
    "          batch_size=64, validation_data=([val.new_user_id, val.new_movie_id], val.rating))"
   ]
  },
  {
   "cell_type": "code",
   "execution_count": 86,
   "metadata": {
    "collapsed": false
   },
   "outputs": [
    {
     "name": "stdout",
     "output_type": "stream",
     "text": [
      "Train on 80196 samples, validate on 19808 samples\n",
      "Epoch 1/1\n",
      "80196/80196 [==============================] - 5s - loss: 2.5877 - val_loss: 2.3103\n"
     ]
    },
    {
     "data": {
      "text/plain": [
       "<keras.callbacks.History at 0x7f5f683e0350>"
      ]
     },
     "execution_count": 86,
     "metadata": {},
     "output_type": "execute_result"
    }
   ],
   "source": [
    "model.optimizer.lr = 0.01\n",
    "model.fit([trn.new_user_id, trn.new_movie_id], trn.rating, nb_epoch=1,\n",
    "          batch_size=64, validation_data=([val.new_user_id, val.new_movie_id], val.rating))"
   ]
  },
  {
   "cell_type": "code",
   "execution_count": 87,
   "metadata": {
    "collapsed": false
   },
   "outputs": [
    {
     "name": "stdout",
     "output_type": "stream",
     "text": [
      "Train on 80196 samples, validate on 19808 samples\n",
      "Epoch 1/5\n",
      "80196/80196 [==============================] - 5s - loss: 1.9849 - val_loss: 2.1029\n",
      "Epoch 2/5\n",
      "80196/80196 [==============================] - 5s - loss: 1.8206 - val_loss: 2.0087\n",
      "Epoch 3/5\n",
      "80196/80196 [==============================] - 5s - loss: 1.7250 - val_loss: 1.9351\n",
      "Epoch 4/5\n",
      "80196/80196 [==============================] - 5s - loss: 1.6455 - val_loss: 1.8702\n",
      "Epoch 5/5\n",
      "80196/80196 [==============================] - 5s - loss: 1.5731 - val_loss: 1.8063\n"
     ]
    },
    {
     "data": {
      "text/plain": [
       "<keras.callbacks.History at 0x7f5f5c646850>"
      ]
     },
     "execution_count": 87,
     "metadata": {},
     "output_type": "execute_result"
    }
   ],
   "source": [
    "model.optimizer.lr = 0.001\n",
    "model.fit([trn.new_user_id, trn.new_movie_id], trn.rating, nb_epoch=5,\n",
    "          batch_size=64, validation_data=([val.new_user_id, val.new_movie_id], val.rating))"
   ]
  },
  {
   "cell_type": "markdown",
   "metadata": {},
   "source": [
    "## Basic Neural Network "
   ]
  },
  {
   "cell_type": "code",
   "execution_count": 115,
   "metadata": {
    "collapsed": true
   },
   "outputs": [],
   "source": [
    "user_in = Input(shape=(1,), dtype='int64', name='user_in')\n",
    "user_emb = Embedding(n_users, n_factors, input_length=1)(user_in)\n",
    "movie_in = Input(shape=(1,), dtype='int64', name='movie_in')\n",
    "movie_emb = Embedding(n_movies, n_factors, input_length=1)(movie_in)"
   ]
  },
  {
   "cell_type": "code",
   "execution_count": 116,
   "metadata": {
    "collapsed": false
   },
   "outputs": [],
   "source": [
    "x1 = Dense(50, activation='relu')(user_emb)\n",
    "x2 = Dense(50, activation='relu')(movie_emb)\n",
    "x = merge([x1, x2], mode='concat')\n",
    "x = Flatten()(x)\n",
    "x = Dense(1, activation='relu')(x)"
   ]
  },
  {
   "cell_type": "code",
   "execution_count": 120,
   "metadata": {
    "collapsed": false
   },
   "outputs": [
    {
     "name": "stdout",
     "output_type": "stream",
     "text": [
      "____________________________________________________________________________________________________\n",
      "Layer (type)                     Output Shape          Param #     Connected to                     \n",
      "====================================================================================================\n",
      "user_in (InputLayer)             (None, 1)             0                                            \n",
      "____________________________________________________________________________________________________\n",
      "movie_in (InputLayer)            (None, 1)             0                                            \n",
      "____________________________________________________________________________________________________\n",
      "embedding_24 (Embedding)         (None, 1, 32)         21472       user_in[0][0]                    \n",
      "____________________________________________________________________________________________________\n",
      "embedding_25 (Embedding)         (None, 1, 32)         290112      movie_in[0][0]                   \n",
      "____________________________________________________________________________________________________\n",
      "dense_13 (Dense)                 (None, 1, 50)         1650        embedding_24[0][0]               \n",
      "____________________________________________________________________________________________________\n",
      "dense_14 (Dense)                 (None, 1, 50)         1650        embedding_25[0][0]               \n",
      "____________________________________________________________________________________________________\n",
      "merge_14 (Merge)                 (None, 1, 100)        0           dense_13[0][0]                   \n",
      "                                                                   dense_14[0][0]                   \n",
      "____________________________________________________________________________________________________\n",
      "flatten_4 (Flatten)              (None, 100)           0           merge_14[0][0]                   \n",
      "____________________________________________________________________________________________________\n",
      "dense_15 (Dense)                 (None, 1)             101         flatten_4[0][0]                  \n",
      "====================================================================================================\n",
      "Total params: 314,985\n",
      "Trainable params: 314,985\n",
      "Non-trainable params: 0\n",
      "____________________________________________________________________________________________________\n"
     ]
    }
   ],
   "source": [
    "model.summary()"
   ]
  },
  {
   "cell_type": "code",
   "execution_count": 118,
   "metadata": {
    "collapsed": true
   },
   "outputs": [],
   "source": [
    "model = Model([user_in, movie_in], x)\n",
    "model.compile(optimizer=Adam(lr=0.001), loss='mse')"
   ]
  },
  {
   "cell_type": "code",
   "execution_count": 119,
   "metadata": {
    "collapsed": false
   },
   "outputs": [
    {
     "name": "stdout",
     "output_type": "stream",
     "text": [
      "Train on 79868 samples, validate on 20136 samples\n",
      "Epoch 1/1\n",
      "79868/79868 [==============================] - 5s - loss: 1.5000 - val_loss: 0.8343\n"
     ]
    },
    {
     "data": {
      "text/plain": [
       "<keras.callbacks.History at 0x7fe4e3f91350>"
      ]
     },
     "execution_count": 119,
     "metadata": {},
     "output_type": "execute_result"
    }
   ],
   "source": [
    "model.fit([trn.new_user_id, trn.new_movie_id], trn.rating, nb_epoch=1,\n",
    "         batch_size=64, validation_data=([val.new_user_id, val.new_movie_id], val.rating))"
   ]
  },
  {
   "cell_type": "markdown",
   "metadata": {},
   "source": [
    "## Analyze Results"
   ]
  },
  {
   "cell_type": "code",
   "execution_count": 88,
   "metadata": {
    "collapsed": false
   },
   "outputs": [],
   "source": [
    "g = ratings.groupby(['new_movie_id'])['rating'].count()\n",
    "g = g.sort_values(ascending=False)\n",
    "top_movies = g.index[:2000].values"
   ]
  },
  {
   "cell_type": "code",
   "execution_count": 89,
   "metadata": {
    "collapsed": false
   },
   "outputs": [],
   "source": [
    "model = Model(movie_in, movie_bias)\n",
    "movie_bias = model.predict(top_movies)\n",
    "movie_bias = np.squeeze(movie_pop)"
   ]
  },
  {
   "cell_type": "code",
   "execution_count": 97,
   "metadata": {
    "collapsed": false
   },
   "outputs": [],
   "source": [
    "movie_ratings = [(mb, movie_names.loc[movies[movie_idx]].title) for mb, movie_idx in zip(movie_bias, top_movies)]"
   ]
  },
  {
   "cell_type": "code",
   "execution_count": 100,
   "metadata": {
    "collapsed": true
   },
   "outputs": [
    {
     "data": {
      "text/plain": [
       "[(-0.1884041, '6th Day, The (2000)'),\n",
       " (-0.18208164, 'Airheads (1994)'),\n",
       " (-0.17474726, 'Boys on the Side (1995)'),\n",
       " (-0.16939932, 'Sleeper (1973)'),\n",
       " (-0.14775528, 'Willow (1988)'),\n",
       " (-0.13248335, 'Hero (1992)'),\n",
       " (-0.12714814, 'Lock, Stock & Two Smoking Barrels (1998)'),\n",
       " (-0.11726499, 'Evil Dead, The (1981)'),\n",
       " (-0.10472398, 'Man with the Golden Gun, The (1974)'),\n",
       " (-0.098918885, 'Beautiful Girls (1996)'),\n",
       " (-0.094652072, 'Santa Clause, The (1994)'),\n",
       " (-0.076515056, 'Harry Potter and the Chamber of Secrets (2002)'),\n",
       " (-0.075517446, 'Devil in a Blue Dress (1995)'),\n",
       " (-0.060368951, 'Men in Black (a.k.a. MIB) (1997)'),\n",
       " (-0.054589927, 'Road Warrior, The (Mad Max 2) (1981)'),\n",
       " (-0.046583485, 'Go (1999)'),\n",
       " (-0.046527948, 'Romeo and Juliet (1968)'),\n",
       " (-0.045749452,\n",
       "  \"Wes Craven's New Nightmare (Nightmare on Elm Street Part 7: Freddy's Finale, A) (1994)\"),\n",
       " (-0.042307891, 'Tropic Thunder (2008)'),\n",
       " (-0.039903451, 'Guardians of the Galaxy (2014)'),\n",
       " (-0.039056458, 'Kick-Ass (2010)'),\n",
       " (-0.037317574, 'Punch-Drunk Love (2002)'),\n",
       " (-0.033328317, 'Return of Jafar, The (1994)'),\n",
       " (-0.032916654, 'Anaconda (1997)'),\n",
       " (-0.031345226, 'Father of the Bride (1991)'),\n",
       " (-0.030676628, 'Keeping the Faith (2000)'),\n",
       " (-0.026003992, 'Antz (1998)'),\n",
       " (-0.023812676,\n",
       "  'Triplets of Belleville, The (Les triplettes de Belleville) (2003)'),\n",
       " (-0.023802364, 'Once (2006)'),\n",
       " (-0.022609999, 'Some Like It Hot (1959)'),\n",
       " (-0.019213641, 'Body Heat (1981)'),\n",
       " (-0.018369388, 'Secret Garden, The (1993)'),\n",
       " (-0.018067837, 'Creepshow (1982)'),\n",
       " (-0.015852416, 'Freaky Friday (2003)'),\n",
       " (-0.015143882, 'Austin Powers in Goldmember (2002)'),\n",
       " (-0.014912248, 'Little Shop of Horrors (1986)'),\n",
       " (-0.014037944, 'Amadeus (1984)'),\n",
       " (-0.010592293, \"Breakfast at Tiffany's (1961)\"),\n",
       " (-0.0094081871, 'Wild Bunch, The (1969)'),\n",
       " (-0.0049153082, 'Stepford Wives, The (1975)'),\n",
       " (-0.0042994134, 'Bruce Almighty (2003)'),\n",
       " (-0.0039772987, 'On the Waterfront (1954)'),\n",
       " (-0.0027718171, 'Wrestler, The (2008)'),\n",
       " (-0.002293326, 'Frankenstein (1931)'),\n",
       " (-0.0016833916, \"Monty Python's The Meaning of Life (1983)\"),\n",
       " (-0.0016625896, 'Only You (1994)'),\n",
       " (-0.00042436228, 'While You Were Sleeping (1995)'),\n",
       " (0.0, 'Dark Knight, The (2008)'),\n",
       " (0.0, 'Inception (2010)'),\n",
       " (0.0,\n",
       "  \"Harry Potter and the Sorcerer's Stone (a.k.a. Harry Potter and the Philosopher's Stone) (2001)\"),\n",
       " (0.0, 'Harry Potter and the Prisoner of Azkaban (2004)'),\n",
       " (0.0, 'In the Line of Fire (1993)'),\n",
       " (0.0, 'Ransom (1996)'),\n",
       " (0.0, 'Few Good Men, A (1992)'),\n",
       " (0.0, 'Wallace & Gromit: The Wrong Trousers (1993)'),\n",
       " (0.0, 'Addams Family Values (1993)'),\n",
       " (0.0, 'Starship Troopers (1997)'),\n",
       " (0.0, 'Field of Dreams (1989)'),\n",
       " (0.0, 'Bridge on the River Kwai, The (1957)'),\n",
       " (0.0, 'Blazing Saddles (1974)'),\n",
       " (0.0, 'Casino Royale (2006)'),\n",
       " (0.0, 'Pocahontas (1995)'),\n",
       " (0.0, 'Pianist, The (2002)'),\n",
       " (0.0, 'Wag the Dog (1997)'),\n",
       " (0.0, \"Pirates of the Caribbean: Dead Man's Chest (2006)\"),\n",
       " (0.0, 'Grumpier Old Men (1995)'),\n",
       " (0.0, 'M*A*S*H (a.k.a. MASH) (1970)'),\n",
       " (0.0, 'Animal House (1978)'),\n",
       " (0.0, 'Perfect Storm, The (2000)'),\n",
       " (0.0, 'Prestige, The (2006)'),\n",
       " (0.0, '28 Days Later (2002)'),\n",
       " (0.0, 'Splash (1984)'),\n",
       " (0.0, 'Mighty Aphrodite (1995)'),\n",
       " (0.0, 'Little Women (1994)'),\n",
       " (0.0, 'Goonies, The (1985)'),\n",
       " (0.0, 'Scarface (1983)'),\n",
       " (0.0, 'Alice in Wonderland (1951)'),\n",
       " (0.0, 'Manchurian Candidate, The (1962)'),\n",
       " (0.0, 'Elizabeth (1998)'),\n",
       " (0.0, 'Bridges of Madison County, The (1995)'),\n",
       " (0.0, 'River Wild, The (1994)'),\n",
       " (0.0, 'Zoolander (2001)'),\n",
       " (0.0, 'Insider, The (1999)'),\n",
       " (0.0, 'Robin Hood: Prince of Thieves (1991)'),\n",
       " (0.0, 'Player, The (1992)'),\n",
       " (0.0, 'Conspiracy Theory (1997)'),\n",
       " (0.0, \"Boys Don't Cry (1999)\"),\n",
       " (0.0, 'Last of the Mohicans, The (1992)'),\n",
       " (0.0, 'To Die For (1995)'),\n",
       " (0.0, 'Interstellar (2014)'),\n",
       " (0.0, 'Toy Story 3 (2010)'),\n",
       " (0.0, 'Billy Madison (1995)'),\n",
       " (0.0, 'Lethal Weapon 4 (1998)'),\n",
       " (0.0, 'I Am Legend (2007)'),\n",
       " (0.0, 'Mulan (1998)'),\n",
       " (0.0, 'Fast and the Furious, The (2001)'),\n",
       " (0.0, 'Bullets Over Broadway (1994)'),\n",
       " (0.0, 'Patton (1970)'),\n",
       " (0.0, 'Ronin (1998)'),\n",
       " (0.0, 'War of the Worlds (2005)')]"
      ]
     },
     "execution_count": 100,
     "metadata": {},
     "output_type": "execute_result"
    }
   ],
   "source": [
    "sorted(movie_ratings, key=itemgetter(0))[:100]"
   ]
  },
  {
   "cell_type": "code",
   "execution_count": 101,
   "metadata": {
    "collapsed": true
   },
   "outputs": [
    {
     "data": {
      "text/plain": [
       "[(0.49692023, 'Zero Effect (1998)'),\n",
       " (0.49681184, '21 Jump Street (2012)'),\n",
       " (0.48738471, 'Ref, The (1994)'),\n",
       " (0.47501162, 'Thank You for Smoking (2006)'),\n",
       " (0.45782319, 'Pitch Black (2000)'),\n",
       " (0.44987682, 'Green Mile, The (1999)'),\n",
       " (0.44281125,\n",
       "  'Laputa: Castle in the Sky (Tenk\\xc3\\xbb no shiro Rapyuta) (1986)'),\n",
       " (0.44086549, 'It Happened One Night (1934)'),\n",
       " (0.43999392, 'Old Boy (2003)'),\n",
       " (0.43588305, 'Walk the Line (2005)'),\n",
       " (0.43144017, 'Paths of Glory (1957)'),\n",
       " (0.43070376, 'Maltese Falcon, The (1941)'),\n",
       " (0.4289608,\n",
       "  'Dr. Strangelove or: How I Learned to Stop Worrying and Love the Bomb (1964)'),\n",
       " (0.42529488, 'Harold and Maude (1971)'),\n",
       " (0.42335135, 'Major League (1989)'),\n",
       " (0.42151135, 'Gravity (2013)'),\n",
       " (0.42046589, 'Young Guns (1988)'),\n",
       " (0.42014745, 'Great Escape, The (1963)'),\n",
       " (0.41951522, 'Nutty Professor, The (1963)'),\n",
       " (0.41891679, \"City Slickers II: The Legend of Curly's Gold (1994)\"),\n",
       " (0.41255155, 'Major Payne (1995)'),\n",
       " (0.40908408, 'My Cousin Vinny (1992)'),\n",
       " (0.40827399, 'Grudge, The (2004)'),\n",
       " (0.40774184, 'Apartment, The (1960)'),\n",
       " (0.40608382, 'Romancing the Stone (1984)'),\n",
       " (0.40531158, 'Equilibrium (2002)'),\n",
       " (0.40481704, 'Graduate, The (1967)'),\n",
       " (0.40392691, 'Big Trouble in Little China (1986)'),\n",
       " (0.40269014, 'Charlie and the Chocolate Factory (2005)'),\n",
       " (0.40262604, 'Up (2009)'),\n",
       " (0.40128759, 'Porco Rosso (Crimson Pig) (Kurenai no buta) (1992)'),\n",
       " (0.39817959, 'Duck Soup (1933)'),\n",
       " (0.39780894, 'Sexy Beast (2000)'),\n",
       " (0.39719364, 'Inglourious Basterds (2009)'),\n",
       " (0.39623979, 'Phenomenon (1996)'),\n",
       " (0.39555803, 'Gandhi (1982)'),\n",
       " (0.3946296, 'Quiet Man, The (1952)'),\n",
       " (0.39461192, 'To Catch a Thief (1955)'),\n",
       " (0.39410123, 'Red Dawn (1984)'),\n",
       " (0.39255407, 'Blade (1998)'),\n",
       " (0.39221066, 'Primer (2004)'),\n",
       " (0.39161524, 'Jurassic Park (1993)'),\n",
       " (0.38733381, 'Deliverance (1972)'),\n",
       " (0.3870059, 'Philadelphia (1993)'),\n",
       " (0.38547781, 'Usual Suspects, The (1995)'),\n",
       " (0.38476622, \"Angela's Ashes (1999)\"),\n",
       " (0.3842949, 'Miss Congeniality (2000)'),\n",
       " (0.38423678, 'Dirty Dozen, The (1967)'),\n",
       " (0.38412631, 'Cloverfield (2008)'),\n",
       " (0.38292605, 'Guns of Navarone, The (1961)'),\n",
       " (0.38266847, 'Last Emperor, The (1987)'),\n",
       " (0.38122919, 'Houseguest (1994)'),\n",
       " (0.38102448, 'Bicentennial Man (1999)'),\n",
       " (0.38068289, 'Notting Hill (1999)'),\n",
       " (0.38047722, 'Grease 2 (1982)'),\n",
       " (0.37996399, 'Quantum of Solace (2008)'),\n",
       " (0.37995821, 'Flirting With Disaster (1996)'),\n",
       " (0.37933373, 'Lost in Translation (2003)'),\n",
       " (0.3787981, 'Twister (1996)'),\n",
       " (0.37771857, 'Little Rascals, The (1994)'),\n",
       " (0.37707895, 'Last Samurai, The (2003)'),\n",
       " (0.37412024, \"My Best Friend's Wedding (1997)\"),\n",
       " (0.373651, 'Cliffhanger (1993)'),\n",
       " (0.37342128, 'Terminator 3: Rise of the Machines (2003)'),\n",
       " (0.37314302, 'Grease (1978)'),\n",
       " (0.37283587, 'Pursuit of Happyness, The (2006)'),\n",
       " (0.37168241, 'Cinema Paradiso (Nuovo cinema Paradiso) (1989)'),\n",
       " (0.37107238, 'Lady Vanishes, The (1938)'),\n",
       " (0.37106258, 'Batman (1989)'),\n",
       " (0.37095189, 'Homeward Bound II: Lost in San Francisco (1996)'),\n",
       " (0.37080136, 'Terminator Salvation (2009)'),\n",
       " (0.37026733, 'Bananas (1971)'),\n",
       " (0.37013748, 'Outbreak (1995)'),\n",
       " (0.37011278, 'Gone with the Wind (1939)'),\n",
       " (0.36942369, 'Popeye (1980)'),\n",
       " (0.36908081, \"Ocean's Twelve (2004)\"),\n",
       " (0.36892167, 'Akira (1988)'),\n",
       " (0.36848024, 'Lethal Weapon (1987)'),\n",
       " (0.36791483, 'Rocky Horror Picture Show, The (1975)'),\n",
       " (0.36780515, 'Escape from New York (1981)'),\n",
       " (0.36773497, 'Jerk, The (1979)'),\n",
       " (0.3659384, 'Godfather: Part II, The (1974)'),\n",
       " (0.36578155, 'American History X (1998)'),\n",
       " (0.36544394, 'With Honors (1994)'),\n",
       " (0.36522609, 'Big Daddy (1999)'),\n",
       " (0.3650696, 'Grand Budapest Hotel, The (2014)'),\n",
       " (0.36481169, 'Mad Max: Fury Road (2015)'),\n",
       " (0.36455289, 'Ben-Hur (1959)'),\n",
       " (0.36452556, 'Little Big Man (1970)'),\n",
       " (0.36446568, 'Rush (2013)'),\n",
       " (0.36433548, 'Fountain, The (2006)'),\n",
       " (0.36403415, 'Abyss, The (1989)'),\n",
       " (0.36371073, 'Transformers (2007)'),\n",
       " (0.3636696, 'Chicken Run (2000)'),\n",
       " (0.36345956, 'Starman (1984)'),\n",
       " (0.3634358, 'Three Men and a Baby (1987)'),\n",
       " (0.36327171, 'In the Heat of the Night (1967)'),\n",
       " (0.36239335, 'The Revenant (2015)'),\n",
       " (0.36161152, 'Unbreakable (2000)'),\n",
       " (0.36141071, 'Congo (1995)')]"
      ]
     },
     "execution_count": 101,
     "metadata": {},
     "output_type": "execute_result"
    }
   ],
   "source": [
    "sorted(movie_ratings, key=itemgetter(0), reverse=True)[:100]"
   ]
  },
  {
   "cell_type": "code",
   "execution_count": 102,
   "metadata": {
    "collapsed": true
   },
   "outputs": [],
   "source": [
    "from sklearn.decomposition import PCA"
   ]
  },
  {
   "cell_type": "code",
   "execution_count": 108,
   "metadata": {
    "collapsed": true
   },
   "outputs": [],
   "source": [
    "model = Model(movie_in, movie_emb)\n",
    "mm_emb = np.squeeze(model.predict(top_movies))"
   ]
  },
  {
   "cell_type": "code",
   "execution_count": 115,
   "metadata": {
    "collapsed": false
   },
   "outputs": [
    {
     "data": {
      "text/plain": [
       "PCA(copy=True, n_components=3, whiten=False)"
      ]
     },
     "execution_count": 115,
     "metadata": {},
     "output_type": "execute_result"
    }
   ],
   "source": [
    "pca = PCA(n_components=3)\n",
    "pca.fit(mm_emb)"
   ]
  },
  {
   "cell_type": "code",
   "execution_count": 116,
   "metadata": {
    "collapsed": false
   },
   "outputs": [
    {
     "data": {
      "text/plain": [
       "array([ 0.3248,  0.2935,  0.1665], dtype=float32)"
      ]
     },
     "execution_count": 116,
     "metadata": {},
     "output_type": "execute_result"
    }
   ],
   "source": [
    "pca.explained_variance_ratio_"
   ]
  },
  {
   "cell_type": "code",
   "execution_count": 110,
   "metadata": {
    "collapsed": false
   },
   "outputs": [
    {
     "data": {
      "text/plain": [
       "(2000, 50)"
      ]
     },
     "execution_count": 110,
     "metadata": {},
     "output_type": "execute_result"
    }
   ],
   "source": [
    "mm_emb.shape"
   ]
  },
  {
   "cell_type": "code",
   "execution_count": 30,
   "metadata": {
    "collapsed": false
   },
   "outputs": [
    {
     "data": {
      "text/plain": [
       "0    2.5\n",
       "1    3.0\n",
       "2    3.0\n",
       "3    2.0\n",
       "4    4.0\n",
       "Name: rating, dtype: float64"
      ]
     },
     "execution_count": 30,
     "metadata": {},
     "output_type": "execute_result"
    }
   ],
   "source": [
    "trn.rating.head()"
   ]
  }
 ],
 "metadata": {
  "kernelspec": {
   "display_name": "Python 2",
   "language": "python",
   "name": "python2"
  },
  "language_info": {
   "codemirror_mode": {
    "name": "ipython",
    "version": 2
   },
   "file_extension": ".py",
   "mimetype": "text/x-python",
   "name": "python",
   "nbconvert_exporter": "python",
   "pygments_lexer": "ipython2",
   "version": "2.7.6"
  }
 },
 "nbformat": 4,
 "nbformat_minor": 0
}
